{
 "cells": [
  {
   "cell_type": "code",
   "execution_count": 282,
   "id": "59561c5a",
   "metadata": {},
   "outputs": [],
   "source": [
    "import matplotlib.pyplot as plt\n",
    "import numpy as np"
   ]
  },
  {
   "cell_type": "markdown",
   "id": "48ac5c37",
   "metadata": {},
   "source": [
    "Arrays with the \"$x$\"-coordinate of the points and their energy eigenvalues, close to $K$ point for the $8^{th}$ band"
   ]
  },
  {
   "cell_type": "code",
   "execution_count": 283,
   "id": "1d051adc",
   "metadata": {},
   "outputs": [],
   "source": [
    "f = open ('8th_band_point_k.txt', 'r')\n",
    "l = []\n",
    "l = [[float(num) for num in line.split()] for line in f]\n",
    "\n",
    "x_array = []\n",
    "E_array = []\n",
    "for i in range(len(l)):\n",
    "    x_array.append(l[i][0])\n",
    "    E_array.append((l[i][1])-4.8536)"
   ]
  },
  {
   "cell_type": "code",
   "execution_count": 284,
   "id": "c3fd46f1",
   "metadata": {},
   "outputs": [
    {
     "data": {
      "text/plain": [
       "[<matplotlib.lines.Line2D at 0x7f93b0648070>]"
      ]
     },
     "execution_count": 284,
     "metadata": {},
     "output_type": "execute_result"
    },
    {
     "data": {
      "image/png": "[encoded data removed]",
      "text/plain": [
       "<Figure size 432x288 with 1 Axes>"
      ]
     },
     "metadata": {
      "needs_background": "light"
     },
     "output_type": "display_data"
    }
   ],
   "source": [
    "plt.plot(x_array, E_array, 'o')"
   ]
  },
  {
   "cell_type": "code",
   "execution_count": 285,
   "id": "2c8989d4",
   "metadata": {},
   "outputs": [],
   "source": [
    "import scipy.optimize"
   ]
  },
  {
   "cell_type": "code",
   "execution_count": 286,
   "id": "ce35bb16",
   "metadata": {},
   "outputs": [],
   "source": [
    "def parabola(x, a, b):\n",
    "    return a*x**2 + b"
   ]
  },
  {
   "cell_type": "code",
   "execution_count": 287,
   "id": "dea8916a",
   "metadata": {},
   "outputs": [],
   "source": [
    "fit_params, pcov = scipy.optimize.curve_fit(parabola, x_array, E_array)"
   ]
  },
  {
   "cell_type": "code",
   "execution_count": 289,
   "id": "b5e8bea6",
   "metadata": {},
   "outputs": [
    {
     "data": {
      "text/plain": [
       "-6.310847881249172"
      ]
     },
     "execution_count": 289,
     "metadata": {},
     "output_type": "execute_result"
    }
   ],
   "source": [
    "fit_params[0]"
   ]
  },
  {
   "cell_type": "code",
   "execution_count": 290,
   "id": "652d452b",
   "metadata": {},
   "outputs": [
    {
     "name": "stdout",
     "output_type": "stream",
     "text": [
      "-6.310847881249172\n"
     ]
    }
   ],
   "source": [
    "a = fit_params[0]\n",
    "print(a)"
   ]
  },
  {
   "cell_type": "code",
   "execution_count": 291,
   "id": "165e5bf7",
   "metadata": {},
   "outputs": [],
   "source": [
    "a = fit_params[0]\n",
    "a = a*1.60218*10**(-19)*10**(-20)\n",
    "h_bar = 1.054571817*10**(-34) #J*s\n",
    "m_e = 9.1093837015*10**(-31) #Kg rest mass of the electron\n",
    "ratio = h_bar**2/(2*a*m_e)"
   ]
  },
  {
   "cell_type": "code",
   "execution_count": 292,
   "id": "026235fb",
   "metadata": {},
   "outputs": [
    {
     "name": "stdout",
     "output_type": "stream",
     "text": [
      "-0.603718260815988\n"
     ]
    }
   ],
   "source": [
    "print(ratio)"
   ]
  },
  {
   "cell_type": "markdown",
   "id": "63ba2e73",
   "metadata": {},
   "source": [
    "Arrays with the \"$x$\"-coordinate of the points and their energy eigenvalues, close to $K$ point for the $9^{th}$ band"
   ]
  },
  {
   "cell_type": "code",
   "execution_count": 293,
   "id": "9dfc439b",
   "metadata": {},
   "outputs": [],
   "source": [
    "f = open ('9th_band_point_k.txt', 'r')\n",
    "l = []\n",
    "l = [[float(num) for num in line.split()] for line in f]\n",
    "\n",
    "x_array = []\n",
    "E_array = []\n",
    "for i in range(len(l)):\n",
    "    x_array.append(l[i][0])\n",
    "    E_array.append((l[i][1])-4.8536)"
   ]
  },
  {
   "cell_type": "code",
   "execution_count": 294,
   "id": "2a7508c7",
   "metadata": {},
   "outputs": [],
   "source": [
    "fit_params, pcov = scipy.optimize.curve_fit(parabola, x_array, E_array)"
   ]
  },
  {
   "cell_type": "code",
   "execution_count": 295,
   "id": "8c3a91c0",
   "metadata": {},
   "outputs": [
    {
     "data": {
      "text/plain": [
       "7.4106516383033885"
      ]
     },
     "execution_count": 295,
     "metadata": {},
     "output_type": "execute_result"
    }
   ],
   "source": [
    "fit_params[0]"
   ]
  },
  {
   "cell_type": "code",
   "execution_count": 296,
   "id": "2feeb1b7",
   "metadata": {},
   "outputs": [],
   "source": [
    "a = fit_params[0]\n",
    "a = a*1.60218*10**(-19)*10**(-20)\n",
    "h_bar = 1.054571817*10**(-34) #J*s\n",
    "m_e = 9.1093837015*10**(-31) #Kg rest mass of the electron\n",
    "ratio = h_bar**2/(2*a*m_e)"
   ]
  },
  {
   "cell_type": "code",
   "execution_count": 297,
   "id": "81a0b701",
   "metadata": {
    "scrolled": true
   },
   "outputs": [
    {
     "name": "stdout",
     "output_type": "stream",
     "text": [
      "0.5141213341414436\n"
     ]
    }
   ],
   "source": [
    "print(ratio)"
   ]
  },
  {
   "cell_type": "code",
   "execution_count": null,
   "id": "9683e152",
   "metadata": {},
   "outputs": [],
   "source": []
  }
 ],
 "metadata": {
  "kernelspec": {
   "display_name": "Python 3",
   "language": "python",
   "name": "python3"
  },
  "language_info": {
   "codemirror_mode": {
    "name": "ipython",
    "version": 3
   },
   "file_extension": ".py",
   "mimetype": "text/x-python",
   "name": "python",
   "nbconvert_exporter": "python",
   "pygments_lexer": "ipython3",
   "version": "3.8.8"
  }
 },
 "nbformat": 4,
 "nbformat_minor": 5
}
